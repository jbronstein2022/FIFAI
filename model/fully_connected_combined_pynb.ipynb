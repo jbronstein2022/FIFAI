{
  "nbformat": 4,
  "nbformat_minor": 0,
  "metadata": {
    "jupytext": {
      "split_at_heading": true
    },
    "kernelspec": {
      "display_name": "Python 3",
      "language": "python",
      "name": "python3"
    },
    "colab": {
      "name": "fully_connected_combined.pynb",
      "provenance": [],
      "collapsed_sections": []
    },
    "accelerator": "GPU",
    "widgets": {
      "application/vnd.jupyter.widget-state+json": {
        "c7ede7733d02446b9c4a7b758cf863fe": {
          "model_module": "@jupyter-widgets/controls",
          "model_name": "TextModel",
          "model_module_version": "1.5.0",
          "state": {
            "_view_name": "TextView",
            "style": "IPY_MODEL_bc401f26dd9d45f1b88b81d040acb17a",
            "_dom_classes": [],
            "description": "Home Team:",
            "_model_name": "TextModel",
            "placeholder": "Type a Team",
            "_view_module": "@jupyter-widgets/controls",
            "_model_module_version": "1.5.0",
            "value": "Chelsea",
            "_view_count": null,
            "disabled": false,
            "_view_module_version": "1.5.0",
            "continuous_update": true,
            "description_tooltip": null,
            "_model_module": "@jupyter-widgets/controls",
            "layout": "IPY_MODEL_b5ee710b67984a369acf300e877a24d5"
          }
        },
        "bc401f26dd9d45f1b88b81d040acb17a": {
          "model_module": "@jupyter-widgets/controls",
          "model_name": "DescriptionStyleModel",
          "model_module_version": "1.5.0",
          "state": {
            "_view_name": "StyleView",
            "_model_name": "DescriptionStyleModel",
            "description_width": "",
            "_view_module": "@jupyter-widgets/base",
            "_model_module_version": "1.5.0",
            "_view_count": null,
            "_view_module_version": "1.2.0",
            "_model_module": "@jupyter-widgets/controls"
          }
        },
        "b5ee710b67984a369acf300e877a24d5": {
          "model_module": "@jupyter-widgets/base",
          "model_name": "LayoutModel",
          "model_module_version": "1.2.0",
          "state": {
            "_view_name": "LayoutView",
            "grid_template_rows": null,
            "right": null,
            "justify_content": null,
            "_view_module": "@jupyter-widgets/base",
            "overflow": null,
            "_model_module_version": "1.2.0",
            "_view_count": null,
            "flex_flow": null,
            "width": null,
            "min_width": null,
            "border": null,
            "align_items": null,
            "bottom": null,
            "_model_module": "@jupyter-widgets/base",
            "top": null,
            "grid_column": null,
            "overflow_y": null,
            "overflow_x": null,
            "grid_auto_flow": null,
            "grid_area": null,
            "grid_template_columns": null,
            "flex": null,
            "_model_name": "LayoutModel",
            "justify_items": null,
            "grid_row": null,
            "max_height": null,
            "align_content": null,
            "visibility": null,
            "align_self": null,
            "height": null,
            "min_height": null,
            "padding": null,
            "grid_auto_rows": null,
            "grid_gap": null,
            "max_width": null,
            "order": null,
            "_view_module_version": "1.2.0",
            "grid_template_areas": null,
            "object_position": null,
            "object_fit": null,
            "grid_auto_columns": null,
            "margin": null,
            "display": null,
            "left": null
          }
        },
        "2468b4a54b664e0c911cbbc99fa9f37e": {
          "model_module": "@jupyter-widgets/controls",
          "model_name": "TextModel",
          "model_module_version": "1.5.0",
          "state": {
            "_view_name": "TextView",
            "style": "IPY_MODEL_1425ad7b7ffd4058b0e550b3c8ce37e7",
            "_dom_classes": [],
            "description": "Away Team:",
            "_model_name": "TextModel",
            "placeholder": "Type a Team",
            "_view_module": "@jupyter-widgets/controls",
            "_model_module_version": "1.5.0",
            "value": "Arsenal",
            "_view_count": null,
            "disabled": false,
            "_view_module_version": "1.5.0",
            "continuous_update": true,
            "description_tooltip": null,
            "_model_module": "@jupyter-widgets/controls",
            "layout": "IPY_MODEL_343d8a2c48b24d2ba24e3e1238e79e03"
          }
        },
        "1425ad7b7ffd4058b0e550b3c8ce37e7": {
          "model_module": "@jupyter-widgets/controls",
          "model_name": "DescriptionStyleModel",
          "model_module_version": "1.5.0",
          "state": {
            "_view_name": "StyleView",
            "_model_name": "DescriptionStyleModel",
            "description_width": "",
            "_view_module": "@jupyter-widgets/base",
            "_model_module_version": "1.5.0",
            "_view_count": null,
            "_view_module_version": "1.2.0",
            "_model_module": "@jupyter-widgets/controls"
          }
        },
        "343d8a2c48b24d2ba24e3e1238e79e03": {
          "model_module": "@jupyter-widgets/base",
          "model_name": "LayoutModel",
          "model_module_version": "1.2.0",
          "state": {
            "_view_name": "LayoutView",
            "grid_template_rows": null,
            "right": null,
            "justify_content": null,
            "_view_module": "@jupyter-widgets/base",
            "overflow": null,
            "_model_module_version": "1.2.0",
            "_view_count": null,
            "flex_flow": null,
            "width": null,
            "min_width": null,
            "border": null,
            "align_items": null,
            "bottom": null,
            "_model_module": "@jupyter-widgets/base",
            "top": null,
            "grid_column": null,
            "overflow_y": null,
            "overflow_x": null,
            "grid_auto_flow": null,
            "grid_area": null,
            "grid_template_columns": null,
            "flex": null,
            "_model_name": "LayoutModel",
            "justify_items": null,
            "grid_row": null,
            "max_height": null,
            "align_content": null,
            "visibility": null,
            "align_self": null,
            "height": null,
            "min_height": null,
            "padding": null,
            "grid_auto_rows": null,
            "grid_gap": null,
            "max_width": null,
            "order": null,
            "_view_module_version": "1.2.0",
            "grid_template_areas": null,
            "object_position": null,
            "object_fit": null,
            "grid_auto_columns": null,
            "margin": null,
            "display": null,
            "left": null
          }
        },
        "1ba3094a079d414cbce31b1dd1e930af": {
          "model_module": "@jupyter-widgets/controls",
          "model_name": "RadioButtonsModel",
          "model_module_version": "1.5.0",
          "state": {
            "_options_labels": [
              "1.0",
              "0.0"
            ],
            "_view_name": "RadioButtonsView",
            "style": "IPY_MODEL_7ab701b6af6f47f1ac9c30aa44f962c5",
            "_dom_classes": [],
            "description": "Home 3 Game win streak:",
            "_model_name": "RadioButtonsModel",
            "index": 1,
            "_view_module": "@jupyter-widgets/controls",
            "_model_module_version": "1.5.0",
            "_view_count": null,
            "disabled": false,
            "_view_module_version": "1.5.0",
            "description_tooltip": null,
            "_model_module": "@jupyter-widgets/controls",
            "layout": "IPY_MODEL_a2f94226b559415a865460d2829c9084"
          }
        },
        "7ab701b6af6f47f1ac9c30aa44f962c5": {
          "model_module": "@jupyter-widgets/controls",
          "model_name": "DescriptionStyleModel",
          "model_module_version": "1.5.0",
          "state": {
            "_view_name": "StyleView",
            "_model_name": "DescriptionStyleModel",
            "description_width": "",
            "_view_module": "@jupyter-widgets/base",
            "_model_module_version": "1.5.0",
            "_view_count": null,
            "_view_module_version": "1.2.0",
            "_model_module": "@jupyter-widgets/controls"
          }
        },
        "a2f94226b559415a865460d2829c9084": {
          "model_module": "@jupyter-widgets/base",
          "model_name": "LayoutModel",
          "model_module_version": "1.2.0",
          "state": {
            "_view_name": "LayoutView",
            "grid_template_rows": null,
            "right": null,
            "justify_content": null,
            "_view_module": "@jupyter-widgets/base",
            "overflow": null,
            "_model_module_version": "1.2.0",
            "_view_count": null,
            "flex_flow": null,
            "width": null,
            "min_width": null,
            "border": null,
            "align_items": null,
            "bottom": null,
            "_model_module": "@jupyter-widgets/base",
            "top": null,
            "grid_column": null,
            "overflow_y": null,
            "overflow_x": null,
            "grid_auto_flow": null,
            "grid_area": null,
            "grid_template_columns": null,
            "flex": null,
            "_model_name": "LayoutModel",
            "justify_items": null,
            "grid_row": null,
            "max_height": null,
            "align_content": null,
            "visibility": null,
            "align_self": null,
            "height": null,
            "min_height": null,
            "padding": null,
            "grid_auto_rows": null,
            "grid_gap": null,
            "max_width": null,
            "order": null,
            "_view_module_version": "1.2.0",
            "grid_template_areas": null,
            "object_position": null,
            "object_fit": null,
            "grid_auto_columns": null,
            "margin": null,
            "display": null,
            "left": null
          }
        },
        "fffae822814640ebad1abe2144e45178": {
          "model_module": "@jupyter-widgets/controls",
          "model_name": "RadioButtonsModel",
          "model_module_version": "1.5.0",
          "state": {
            "_options_labels": [
              "1.0",
              "0.0"
            ],
            "_view_name": "RadioButtonsView",
            "style": "IPY_MODEL_4cefdaec545a4ce28e895a7e861bb3cc",
            "_dom_classes": [],
            "description": "Away 3 Game win streak:",
            "_model_name": "RadioButtonsModel",
            "index": 1,
            "_view_module": "@jupyter-widgets/controls",
            "_model_module_version": "1.5.0",
            "_view_count": null,
            "disabled": false,
            "_view_module_version": "1.5.0",
            "description_tooltip": null,
            "_model_module": "@jupyter-widgets/controls",
            "layout": "IPY_MODEL_a133c9cbcff543a4a669423322d92a68"
          }
        },
        "4cefdaec545a4ce28e895a7e861bb3cc": {
          "model_module": "@jupyter-widgets/controls",
          "model_name": "DescriptionStyleModel",
          "model_module_version": "1.5.0",
          "state": {
            "_view_name": "StyleView",
            "_model_name": "DescriptionStyleModel",
            "description_width": "",
            "_view_module": "@jupyter-widgets/base",
            "_model_module_version": "1.5.0",
            "_view_count": null,
            "_view_module_version": "1.2.0",
            "_model_module": "@jupyter-widgets/controls"
          }
        },
        "a133c9cbcff543a4a669423322d92a68": {
          "model_module": "@jupyter-widgets/base",
          "model_name": "LayoutModel",
          "model_module_version": "1.2.0",
          "state": {
            "_view_name": "LayoutView",
            "grid_template_rows": null,
            "right": null,
            "justify_content": null,
            "_view_module": "@jupyter-widgets/base",
            "overflow": null,
            "_model_module_version": "1.2.0",
            "_view_count": null,
            "flex_flow": null,
            "width": "max-content",
            "min_width": null,
            "border": null,
            "align_items": null,
            "bottom": null,
            "_model_module": "@jupyter-widgets/base",
            "top": null,
            "grid_column": null,
            "overflow_y": null,
            "overflow_x": null,
            "grid_auto_flow": null,
            "grid_area": null,
            "grid_template_columns": null,
            "flex": null,
            "_model_name": "LayoutModel",
            "justify_items": null,
            "grid_row": null,
            "max_height": null,
            "align_content": null,
            "visibility": null,
            "align_self": null,
            "height": null,
            "min_height": null,
            "padding": null,
            "grid_auto_rows": null,
            "grid_gap": null,
            "max_width": null,
            "order": null,
            "_view_module_version": "1.2.0",
            "grid_template_areas": null,
            "object_position": null,
            "object_fit": null,
            "grid_auto_columns": null,
            "margin": null,
            "display": null,
            "left": null
          }
        },
        "9c018a616db34cc9bf47809e7a834ce5": {
          "model_module": "@jupyter-widgets/controls",
          "model_name": "FloatTextModel",
          "model_module_version": "1.5.0",
          "state": {
            "_view_name": "FloatTextView",
            "style": "IPY_MODEL_76b768cc5539408999f691fef503b23a",
            "_dom_classes": [],
            "description": "Home Team Streak:",
            "_model_name": "FloatTextModel",
            "_view_module": "@jupyter-widgets/controls",
            "_model_module_version": "1.5.0",
            "value": 0,
            "_view_count": null,
            "disabled": false,
            "_view_module_version": "1.5.0",
            "continuous_update": false,
            "step": null,
            "description_tooltip": null,
            "_model_module": "@jupyter-widgets/controls",
            "layout": "IPY_MODEL_f807aef87dd64f7bb4f54a8b085c2cd7"
          }
        },
        "76b768cc5539408999f691fef503b23a": {
          "model_module": "@jupyter-widgets/controls",
          "model_name": "DescriptionStyleModel",
          "model_module_version": "1.5.0",
          "state": {
            "_view_name": "StyleView",
            "_model_name": "DescriptionStyleModel",
            "description_width": "",
            "_view_module": "@jupyter-widgets/base",
            "_model_module_version": "1.5.0",
            "_view_count": null,
            "_view_module_version": "1.2.0",
            "_model_module": "@jupyter-widgets/controls"
          }
        },
        "f807aef87dd64f7bb4f54a8b085c2cd7": {
          "model_module": "@jupyter-widgets/base",
          "model_name": "LayoutModel",
          "model_module_version": "1.2.0",
          "state": {
            "_view_name": "LayoutView",
            "grid_template_rows": null,
            "right": null,
            "justify_content": null,
            "_view_module": "@jupyter-widgets/base",
            "overflow": null,
            "_model_module_version": "1.2.0",
            "_view_count": null,
            "flex_flow": null,
            "width": null,
            "min_width": null,
            "border": null,
            "align_items": null,
            "bottom": null,
            "_model_module": "@jupyter-widgets/base",
            "top": null,
            "grid_column": null,
            "overflow_y": null,
            "overflow_x": null,
            "grid_auto_flow": null,
            "grid_area": null,
            "grid_template_columns": null,
            "flex": null,
            "_model_name": "LayoutModel",
            "justify_items": null,
            "grid_row": null,
            "max_height": null,
            "align_content": null,
            "visibility": null,
            "align_self": null,
            "height": null,
            "min_height": null,
            "padding": null,
            "grid_auto_rows": null,
            "grid_gap": null,
            "max_width": null,
            "order": null,
            "_view_module_version": "1.2.0",
            "grid_template_areas": null,
            "object_position": null,
            "object_fit": null,
            "grid_auto_columns": null,
            "margin": null,
            "display": null,
            "left": null
          }
        },
        "fbe5f60f5dca4a6584aca3623008aa0d": {
          "model_module": "@jupyter-widgets/controls",
          "model_name": "FloatTextModel",
          "model_module_version": "1.5.0",
          "state": {
            "_view_name": "FloatTextView",
            "style": "IPY_MODEL_452bf6e5a45742b498466d5ed0f2b84d",
            "_dom_classes": [],
            "description": "Away Team Streak:",
            "_model_name": "FloatTextModel",
            "_view_module": "@jupyter-widgets/controls",
            "_model_module_version": "1.5.0",
            "value": 0,
            "_view_count": null,
            "disabled": false,
            "_view_module_version": "1.5.0",
            "continuous_update": false,
            "step": null,
            "description_tooltip": null,
            "_model_module": "@jupyter-widgets/controls",
            "layout": "IPY_MODEL_2955fe11b0a44a039df392725f710e02"
          }
        },
        "452bf6e5a45742b498466d5ed0f2b84d": {
          "model_module": "@jupyter-widgets/controls",
          "model_name": "DescriptionStyleModel",
          "model_module_version": "1.5.0",
          "state": {
            "_view_name": "StyleView",
            "_model_name": "DescriptionStyleModel",
            "description_width": "",
            "_view_module": "@jupyter-widgets/base",
            "_model_module_version": "1.5.0",
            "_view_count": null,
            "_view_module_version": "1.2.0",
            "_model_module": "@jupyter-widgets/controls"
          }
        },
        "2955fe11b0a44a039df392725f710e02": {
          "model_module": "@jupyter-widgets/base",
          "model_name": "LayoutModel",
          "model_module_version": "1.2.0",
          "state": {
            "_view_name": "LayoutView",
            "grid_template_rows": null,
            "right": null,
            "justify_content": null,
            "_view_module": "@jupyter-widgets/base",
            "overflow": null,
            "_model_module_version": "1.2.0",
            "_view_count": null,
            "flex_flow": null,
            "width": null,
            "min_width": null,
            "border": null,
            "align_items": null,
            "bottom": null,
            "_model_module": "@jupyter-widgets/base",
            "top": null,
            "grid_column": null,
            "overflow_y": null,
            "overflow_x": null,
            "grid_auto_flow": null,
            "grid_area": null,
            "grid_template_columns": null,
            "flex": null,
            "_model_name": "LayoutModel",
            "justify_items": null,
            "grid_row": null,
            "max_height": null,
            "align_content": null,
            "visibility": null,
            "align_self": null,
            "height": null,
            "min_height": null,
            "padding": null,
            "grid_auto_rows": null,
            "grid_gap": null,
            "max_width": null,
            "order": null,
            "_view_module_version": "1.2.0",
            "grid_template_areas": null,
            "object_position": null,
            "object_fit": null,
            "grid_auto_columns": null,
            "margin": null,
            "display": null,
            "left": null
          }
        },
        "d59a0278de63440a9e771ca8795d75ac": {
          "model_module": "@jupyter-widgets/controls",
          "model_name": "TextModel",
          "model_module_version": "1.5.0",
          "state": {
            "_view_name": "TextView",
            "style": "IPY_MODEL_4a72c219d3c04afda59cecb4a0aa355c",
            "_dom_classes": [],
            "description": "Enter Referee",
            "_model_name": "TextModel",
            "placeholder": "Enter Referee",
            "_view_module": "@jupyter-widgets/controls",
            "_model_module_version": "1.5.0",
            "value": "M Oliver",
            "_view_count": null,
            "disabled": false,
            "_view_module_version": "1.5.0",
            "continuous_update": true,
            "description_tooltip": null,
            "_model_module": "@jupyter-widgets/controls",
            "layout": "IPY_MODEL_bd65f4c1f99e4b76b0d6fa10af4b9f73"
          }
        },
        "4a72c219d3c04afda59cecb4a0aa355c": {
          "model_module": "@jupyter-widgets/controls",
          "model_name": "DescriptionStyleModel",
          "model_module_version": "1.5.0",
          "state": {
            "_view_name": "StyleView",
            "_model_name": "DescriptionStyleModel",
            "description_width": "",
            "_view_module": "@jupyter-widgets/base",
            "_model_module_version": "1.5.0",
            "_view_count": null,
            "_view_module_version": "1.2.0",
            "_model_module": "@jupyter-widgets/controls"
          }
        },
        "bd65f4c1f99e4b76b0d6fa10af4b9f73": {
          "model_module": "@jupyter-widgets/base",
          "model_name": "LayoutModel",
          "model_module_version": "1.2.0",
          "state": {
            "_view_name": "LayoutView",
            "grid_template_rows": null,
            "right": null,
            "justify_content": null,
            "_view_module": "@jupyter-widgets/base",
            "overflow": null,
            "_model_module_version": "1.2.0",
            "_view_count": null,
            "flex_flow": null,
            "width": null,
            "min_width": null,
            "border": null,
            "align_items": null,
            "bottom": null,
            "_model_module": "@jupyter-widgets/base",
            "top": null,
            "grid_column": null,
            "overflow_y": null,
            "overflow_x": null,
            "grid_auto_flow": null,
            "grid_area": null,
            "grid_template_columns": null,
            "flex": null,
            "_model_name": "LayoutModel",
            "justify_items": null,
            "grid_row": null,
            "max_height": null,
            "align_content": null,
            "visibility": null,
            "align_self": null,
            "height": null,
            "min_height": null,
            "padding": null,
            "grid_auto_rows": null,
            "grid_gap": null,
            "max_width": null,
            "order": null,
            "_view_module_version": "1.2.0",
            "grid_template_areas": null,
            "object_position": null,
            "object_fit": null,
            "grid_auto_columns": null,
            "margin": null,
            "display": null,
            "left": null
          }
        }
      }
    }
  },
  "cells": [
    {
      "cell_type": "code",
      "metadata": {
        "id": "IhZeQMkOa4AN",
        "colab": {
          "base_uri": "https://localhost:8080/"
        },
        "outputId": "dd749061-3ad9-4227-85fd-f441de10736f"
      },
      "source": [
        "#hide\n",
        "#skip\n",
        "! [ -e /content ] && pip install -Uqq fastai  # upgrade fastai on colab"
      ],
      "execution_count": 4,
      "outputs": [
        {
          "output_type": "stream",
          "name": "stdout",
          "text": [
            "\u001b[?25l\r\u001b[K     |█▊                              | 10 kB 25.9 MB/s eta 0:00:01\r\u001b[K     |███▌                            | 20 kB 20.9 MB/s eta 0:00:01\r\u001b[K     |█████▏                          | 30 kB 11.4 MB/s eta 0:00:01\r\u001b[K     |███████                         | 40 kB 9.3 MB/s eta 0:00:01\r\u001b[K     |████████▋                       | 51 kB 5.3 MB/s eta 0:00:01\r\u001b[K     |██████████▍                     | 61 kB 5.9 MB/s eta 0:00:01\r\u001b[K     |████████████                    | 71 kB 5.6 MB/s eta 0:00:01\r\u001b[K     |█████████████▉                  | 81 kB 6.3 MB/s eta 0:00:01\r\u001b[K     |███████████████▋                | 92 kB 4.8 MB/s eta 0:00:01\r\u001b[K     |█████████████████▎              | 102 kB 5.2 MB/s eta 0:00:01\r\u001b[K     |███████████████████             | 112 kB 5.2 MB/s eta 0:00:01\r\u001b[K     |████████████████████▊           | 122 kB 5.2 MB/s eta 0:00:01\r\u001b[K     |██████████████████████▌         | 133 kB 5.2 MB/s eta 0:00:01\r\u001b[K     |████████████████████████▏       | 143 kB 5.2 MB/s eta 0:00:01\r\u001b[K     |██████████████████████████      | 153 kB 5.2 MB/s eta 0:00:01\r\u001b[K     |███████████████████████████▊    | 163 kB 5.2 MB/s eta 0:00:01\r\u001b[K     |█████████████████████████████▍  | 174 kB 5.2 MB/s eta 0:00:01\r\u001b[K     |███████████████████████████████▏| 184 kB 5.2 MB/s eta 0:00:01\r\u001b[K     |████████████████████████████████| 189 kB 5.2 MB/s \n",
            "\u001b[?25h\u001b[?25l\r\u001b[K     |█████▊                          | 10 kB 38.9 MB/s eta 0:00:01\r\u001b[K     |███████████▌                    | 20 kB 43.7 MB/s eta 0:00:01\r\u001b[K     |█████████████████▎              | 30 kB 45.9 MB/s eta 0:00:01\r\u001b[K     |███████████████████████         | 40 kB 48.0 MB/s eta 0:00:01\r\u001b[K     |████████████████████████████▉   | 51 kB 49.2 MB/s eta 0:00:01\r\u001b[K     |████████████████████████████████| 56 kB 4.6 MB/s \n",
            "\u001b[?25h"
          ]
        }
      ]
    },
    {
      "cell_type": "code",
      "metadata": {
        "id": "PuH3Wyzra4AU"
      },
      "source": [
        "import fastai\n",
        "from fastai.tabular.all import *\n",
        "import ipywidgets as widgets"
      ],
      "execution_count": 5,
      "outputs": []
    },
    {
      "cell_type": "code",
      "metadata": {
        "id": "bfjlC2e2a4AV"
      },
      "source": [
        " #path = \"/content/combined_eight_seasons_data_withOdds.csv\"\n",
        "path = \"/content/combined_eight_seasons_data.csv\"\n",
        "# path = \"/content/combined_five_seasons_data.csv\""
      ],
      "execution_count": 6,
      "outputs": []
    },
    {
      "cell_type": "markdown",
      "metadata": {
        "id": "wJYFv0ika4AX"
      },
      "source": [
        "Then we can have a look at how the data is structured:"
      ]
    },
    {
      "cell_type": "code",
      "metadata": {
        "id": "b9s1zwIpa4AX",
        "colab": {
          "base_uri": "https://localhost:8080/",
          "height": 206
        },
        "outputId": "ad8feee6-903e-40de-b72d-d591aeadfe6c"
      },
      "source": [
        "df = pd.read_csv(path)\n",
        "df.head()"
      ],
      "execution_count": 9,
      "outputs": [
        {
          "output_type": "execute_result",
          "data": {
            "text/html": [
              "<div>\n",
              "<style scoped>\n",
              "    .dataframe tbody tr th:only-of-type {\n",
              "        vertical-align: middle;\n",
              "    }\n",
              "\n",
              "    .dataframe tbody tr th {\n",
              "        vertical-align: top;\n",
              "    }\n",
              "\n",
              "    .dataframe thead th {\n",
              "        text-align: right;\n",
              "    }\n",
              "</style>\n",
              "<table border=\"1\" class=\"dataframe\">\n",
              "  <thead>\n",
              "    <tr style=\"text-align: right;\">\n",
              "      <th></th>\n",
              "      <th>HomeTeam</th>\n",
              "      <th>AwayTeam</th>\n",
              "      <th>FTHG</th>\n",
              "      <th>FTAG</th>\n",
              "      <th>ScoreDiff</th>\n",
              "      <th>HomeWinStreak</th>\n",
              "      <th>AwayWinStreak</th>\n",
              "      <th>TGSH</th>\n",
              "      <th>TGSA</th>\n",
              "      <th>Results</th>\n",
              "      <th>Referee</th>\n",
              "    </tr>\n",
              "  </thead>\n",
              "  <tbody>\n",
              "    <tr>\n",
              "      <th>0</th>\n",
              "      <td>Arsenal</td>\n",
              "      <td>Crystal Palace</td>\n",
              "      <td>2</td>\n",
              "      <td>1</td>\n",
              "      <td>1</td>\n",
              "      <td>1</td>\n",
              "      <td>0</td>\n",
              "      <td>0</td>\n",
              "      <td>0</td>\n",
              "      <td>Win</td>\n",
              "      <td>J Moss</td>\n",
              "    </tr>\n",
              "    <tr>\n",
              "      <th>1</th>\n",
              "      <td>Leicester</td>\n",
              "      <td>Everton</td>\n",
              "      <td>2</td>\n",
              "      <td>2</td>\n",
              "      <td>0</td>\n",
              "      <td>1</td>\n",
              "      <td>0</td>\n",
              "      <td>0</td>\n",
              "      <td>0</td>\n",
              "      <td>Draw</td>\n",
              "      <td>M Jones</td>\n",
              "    </tr>\n",
              "    <tr>\n",
              "      <th>2</th>\n",
              "      <td>Man United</td>\n",
              "      <td>Swansea</td>\n",
              "      <td>1</td>\n",
              "      <td>2</td>\n",
              "      <td>-1</td>\n",
              "      <td>0</td>\n",
              "      <td>1</td>\n",
              "      <td>0</td>\n",
              "      <td>0</td>\n",
              "      <td>Loss</td>\n",
              "      <td>M Dean</td>\n",
              "    </tr>\n",
              "    <tr>\n",
              "      <th>3</th>\n",
              "      <td>QPR</td>\n",
              "      <td>Hull</td>\n",
              "      <td>0</td>\n",
              "      <td>1</td>\n",
              "      <td>-1</td>\n",
              "      <td>0</td>\n",
              "      <td>2</td>\n",
              "      <td>0</td>\n",
              "      <td>0</td>\n",
              "      <td>Loss</td>\n",
              "      <td>C Pawson</td>\n",
              "    </tr>\n",
              "    <tr>\n",
              "      <th>4</th>\n",
              "      <td>Stoke</td>\n",
              "      <td>Aston Villa</td>\n",
              "      <td>0</td>\n",
              "      <td>1</td>\n",
              "      <td>-1</td>\n",
              "      <td>0</td>\n",
              "      <td>3</td>\n",
              "      <td>0</td>\n",
              "      <td>1</td>\n",
              "      <td>Loss</td>\n",
              "      <td>A Taylor</td>\n",
              "    </tr>\n",
              "  </tbody>\n",
              "</table>\n",
              "</div>"
            ],
            "text/plain": [
              "     HomeTeam        AwayTeam  FTHG  FTAG  ...  TGSH  TGSA  Results   Referee\n",
              "0     Arsenal  Crystal Palace     2     1  ...     0     0      Win    J Moss\n",
              "1   Leicester         Everton     2     2  ...     0     0     Draw   M Jones\n",
              "2  Man United         Swansea     1     2  ...     0     0     Loss    M Dean\n",
              "3         QPR            Hull     0     1  ...     0     0     Loss  C Pawson\n",
              "4       Stoke     Aston Villa     0     1  ...     0     1     Loss  A Taylor\n",
              "\n",
              "[5 rows x 11 columns]"
            ]
          },
          "metadata": {},
          "execution_count": 9
        }
      ]
    },
    {
      "cell_type": "code",
      "metadata": {
        "id": "5NweE8zua4AZ"
      },
      "source": [
        "# without Odds\n",
        "dls = TabularDataLoaders.from_csv(path, path=path, y_names=\"Results\",\n",
        "    cat_names = ['HomeTeam', 'AwayTeam', 'TGSH', 'TGSA', 'Referee'],\n",
        "    cont_names = ['HomeWinStreak', 'AwayWinStreak'],\n",
        "    procs = [Categorify, FillMissing, Normalize])\n",
        "\n",
        "# # with Odds\n",
        "# dls = TabularDataLoaders.from_csv(path, path=path, y_names=\"Results\",\n",
        "#     cat_names = ['HomeTeam', 'AwayTeam', 'TGSH', 'TGSA', 'Referee'],\n",
        "#     cont_names = ['HomeWinStreak', 'AwayWinStreak', 'B365H', 'B365D', 'B365A', 'BWH', 'BWD', 'BWA' ],\n",
        "#     procs = [Categorify, FillMissing, Normalize])\n",
        "\n",
        "# # with Only Odds\n",
        "# dls = TabularDataLoaders.from_csv(path, path=path, y_names=\"Results\",\n",
        "#     cat_names = ['HomeTeam', 'AwayTeam'],\n",
        "#     cont_names = ['B365H', 'B365D', 'B365A', 'BWH', 'BWD', 'BWA' ],\n",
        "#     procs = [Categorify, FillMissing, Normalize])\n",
        "\n",
        "# # with Only Odds from B365\n",
        "# dls = TabularDataLoaders.from_csv(path, path=path, y_names=\"Results\",\n",
        "#     cat_names = ['HomeTeam', 'AwayTeam'],\n",
        "#     cont_names = ['B365H', 'B365D', 'B365A'],\n",
        "#     procs = [Categorify, FillMissing, Normalize])\n",
        "\n",
        "# # with Only Odds from BWA\n",
        "# dls = TabularDataLoaders.from_csv(path, path=path, y_names=\"Results\",\n",
        "#     cat_names = ['HomeTeam', 'AwayTeam'],\n",
        "#     cont_names = ['BWH', 'BWD', 'BWA'],\n",
        "#     procs = [Categorify, FillMissing, Normalize])"
      ],
      "execution_count": null,
      "outputs": []
    },
    {
      "cell_type": "markdown",
      "metadata": {
        "id": "XIv3nF4Ba4AZ"
      },
      "source": [
        "The last part is the list of pre-processors we apply to our data:\n",
        "\n",
        "- `Categorify` is going to take every categorical variable and make a map from integer to unique categories, then replace the values by the corresponding index.\n",
        "- `FillMissing` will fill the missing values in the continuous variables by the median of existing values (you can choose a specific value if you prefer)\n",
        "- `Normalize` will normalize the continuous variables (subtract the mean and divide by the std)\n",
        "\n"
      ]
    },
    {
      "cell_type": "code",
      "metadata": {
        "id": "carWvg6ja4Ab"
      },
      "source": [
        "splits = EndSplitter(valid_pct=0.1, valid_last=True)(range_of(df))"
      ],
      "execution_count": 10,
      "outputs": []
    },
    {
      "cell_type": "code",
      "metadata": {
        "id": "eUAkLMkqa4Ab"
      },
      "source": [
        "# without Odds\n",
        "to = TabularPandas(df, procs=[Categorify, FillMissing,Normalize],\n",
        "                   cat_names = ['HomeTeam', 'AwayTeam', 'TGSH', 'TGSA', 'Referee'],\n",
        "                   cont_names = ['HomeWinStreak', 'AwayWinStreak'],\n",
        "                   y_names='Results',\n",
        "                   splits=splits)\n",
        "\n",
        "# # with Odds\n",
        "# to = TabularPandas(df, procs=[Categorify, FillMissing,Normalize],\n",
        "#                    cat_names = ['HomeTeam', 'AwayTeam', 'TGSH', 'TGSA', 'Referee'],\n",
        "#                    cont_names = ['HomeWinStreak', 'AwayWinStreak', 'B365H', 'B365D', 'B365A', 'BWH', 'BWD', 'BWA' ],\n",
        "#                    y_names='Results',\n",
        "#                    splits=splits)\n",
        "\n",
        "# # with ONLY Odds\n",
        "# to = TabularPandas(df, procs=[Categorify, FillMissing,Normalize],\n",
        "#                    cat_names = ['HomeTeam', 'AwayTeam'],\n",
        "#                    cont_names = ['B365H', 'B365D', 'B365A', 'BWH', 'BWD', 'BWA'],\n",
        "#                    y_names='Results',\n",
        "#                    splits=splits)\n",
        "\n",
        "# # with ONLY Odds from B365\n",
        "# to = TabularPandas(df, procs=[Categorify, FillMissing,Normalize],\n",
        "#                    cat_names = ['HomeTeam', 'AwayTeam'],\n",
        "#                    cont_names = ['B365H', 'B365D', 'B365A'],\n",
        "#                    y_names='Results',\n",
        "#                    splits=splits)\n",
        "\n",
        "# # with ONLY Odds from BW\n",
        "# to = TabularPandas(df, procs=[Categorify, FillMissing,Normalize],\n",
        "#                    cat_names = ['HomeTeam', 'AwayTeam'],\n",
        "#                    cont_names = ['BWH', 'BWD', 'BWA'],\n",
        "#                    y_names='Results',\n",
        "#                    splits=splits)"
      ],
      "execution_count": 11,
      "outputs": []
    },
    {
      "cell_type": "markdown",
      "metadata": {
        "id": "H9OJxpYqa4Ac"
      },
      "source": [
        "Once we build our `TabularPandas` object, our data is completely preprocessed as seen below:"
      ]
    },
    {
      "cell_type": "code",
      "metadata": {
        "id": "_xQlQR_Ra4Ac",
        "colab": {
          "base_uri": "https://localhost:8080/",
          "height": 112
        },
        "outputId": "0371dc94-b3f9-40bb-ed32-15fe15677f54"
      },
      "source": [
        "to.xs.iloc[:2]"
      ],
      "execution_count": 12,
      "outputs": [
        {
          "output_type": "execute_result",
          "data": {
            "text/html": [
              "<div>\n",
              "<style scoped>\n",
              "    .dataframe tbody tr th:only-of-type {\n",
              "        vertical-align: middle;\n",
              "    }\n",
              "\n",
              "    .dataframe tbody tr th {\n",
              "        vertical-align: top;\n",
              "    }\n",
              "\n",
              "    .dataframe thead th {\n",
              "        text-align: right;\n",
              "    }\n",
              "</style>\n",
              "<table border=\"1\" class=\"dataframe\">\n",
              "  <thead>\n",
              "    <tr style=\"text-align: right;\">\n",
              "      <th></th>\n",
              "      <th>HomeTeam</th>\n",
              "      <th>AwayTeam</th>\n",
              "      <th>TGSH</th>\n",
              "      <th>TGSA</th>\n",
              "      <th>Referee</th>\n",
              "      <th>HomeWinStreak</th>\n",
              "      <th>AwayWinStreak</th>\n",
              "    </tr>\n",
              "  </thead>\n",
              "  <tbody>\n",
              "    <tr>\n",
              "      <th>0</th>\n",
              "      <td>1</td>\n",
              "      <td>9</td>\n",
              "      <td>1</td>\n",
              "      <td>1</td>\n",
              "      <td>11</td>\n",
              "      <td>-0.247341</td>\n",
              "      <td>-0.629619</td>\n",
              "    </tr>\n",
              "    <tr>\n",
              "      <th>1</th>\n",
              "      <td>15</td>\n",
              "      <td>10</td>\n",
              "      <td>1</td>\n",
              "      <td>1</td>\n",
              "      <td>19</td>\n",
              "      <td>-0.247341</td>\n",
              "      <td>-0.629619</td>\n",
              "    </tr>\n",
              "  </tbody>\n",
              "</table>\n",
              "</div>"
            ],
            "text/plain": [
              "   HomeTeam  AwayTeam  TGSH  TGSA  Referee  HomeWinStreak  AwayWinStreak\n",
              "0         1         9     1     1       11      -0.247341      -0.629619\n",
              "1        15        10     1     1       19      -0.247341      -0.629619"
            ]
          },
          "metadata": {},
          "execution_count": 12
        }
      ]
    },
    {
      "cell_type": "markdown",
      "metadata": {
        "id": "EybsJbgJa4Ad"
      },
      "source": [
        "Now we can build our `DataLoaders` again:"
      ]
    },
    {
      "cell_type": "code",
      "metadata": {
        "id": "6EGXZzY2a4Ad"
      },
      "source": [
        "dls = to.dataloaders(bs=64)"
      ],
      "execution_count": 13,
      "outputs": []
    },
    {
      "cell_type": "markdown",
      "metadata": {
        "id": "QyuTXgYka4Ad"
      },
      "source": [
        "> Later we will explore why using `TabularPandas` to preprocess will be valuable."
      ]
    },
    {
      "cell_type": "markdown",
      "metadata": {
        "id": "CojwzFYLa4Ae"
      },
      "source": [
        "The `show_batch` method works like for every other application:"
      ]
    },
    {
      "cell_type": "code",
      "metadata": {
        "id": "1FiRnjt1a4Ae",
        "colab": {
          "base_uri": "https://localhost:8080/",
          "height": 363
        },
        "outputId": "acdfc574-7dbd-4e88-f7a2-97bdd80b3b55"
      },
      "source": [
        "dls.show_batch()"
      ],
      "execution_count": 14,
      "outputs": [
        {
          "output_type": "display_data",
          "data": {
            "text/html": [
              "<table border=\"1\" class=\"dataframe\">\n",
              "  <thead>\n",
              "    <tr style=\"text-align: right;\">\n",
              "      <th></th>\n",
              "      <th>HomeTeam</th>\n",
              "      <th>AwayTeam</th>\n",
              "      <th>TGSH</th>\n",
              "      <th>TGSA</th>\n",
              "      <th>Referee</th>\n",
              "      <th>HomeWinStreak</th>\n",
              "      <th>AwayWinStreak</th>\n",
              "      <th>Results</th>\n",
              "    </tr>\n",
              "  </thead>\n",
              "  <tbody>\n",
              "    <tr>\n",
              "      <th>0</th>\n",
              "      <td>Arsenal</td>\n",
              "      <td>Leicester</td>\n",
              "      <td>0</td>\n",
              "      <td>0</td>\n",
              "      <td>C Kavanagh</td>\n",
              "      <td>2.000000e+00</td>\n",
              "      <td>9.613172e-09</td>\n",
              "      <td>Win</td>\n",
              "    </tr>\n",
              "    <tr>\n",
              "      <th>1</th>\n",
              "      <td>Liverpool</td>\n",
              "      <td>Aston Villa</td>\n",
              "      <td>0</td>\n",
              "      <td>0</td>\n",
              "      <td>J Moss</td>\n",
              "      <td>1.000000e+00</td>\n",
              "      <td>9.613172e-09</td>\n",
              "      <td>Win</td>\n",
              "    </tr>\n",
              "    <tr>\n",
              "      <th>2</th>\n",
              "      <td>Everton</td>\n",
              "      <td>Huddersfield</td>\n",
              "      <td>0</td>\n",
              "      <td>0</td>\n",
              "      <td>C Kavanagh</td>\n",
              "      <td>2.000000e+00</td>\n",
              "      <td>9.613172e-09</td>\n",
              "      <td>Win</td>\n",
              "    </tr>\n",
              "    <tr>\n",
              "      <th>3</th>\n",
              "      <td>West Brom</td>\n",
              "      <td>Man United</td>\n",
              "      <td>0</td>\n",
              "      <td>0</td>\n",
              "      <td>M Dean</td>\n",
              "      <td>1.000000e+00</td>\n",
              "      <td>9.613172e-09</td>\n",
              "      <td>Draw</td>\n",
              "    </tr>\n",
              "    <tr>\n",
              "      <th>4</th>\n",
              "      <td>Tottenham</td>\n",
              "      <td>West Ham</td>\n",
              "      <td>0</td>\n",
              "      <td>0</td>\n",
              "      <td>C Pawson</td>\n",
              "      <td>2.000000e+00</td>\n",
              "      <td>9.613172e-09</td>\n",
              "      <td>Win</td>\n",
              "    </tr>\n",
              "    <tr>\n",
              "      <th>5</th>\n",
              "      <td>Bournemouth</td>\n",
              "      <td>Man City</td>\n",
              "      <td>0</td>\n",
              "      <td>0</td>\n",
              "      <td>R Madley</td>\n",
              "      <td>-2.287897e-08</td>\n",
              "      <td>2.000000e+00</td>\n",
              "      <td>Loss</td>\n",
              "    </tr>\n",
              "    <tr>\n",
              "      <th>6</th>\n",
              "      <td>Watford</td>\n",
              "      <td>Sheffield United</td>\n",
              "      <td>0</td>\n",
              "      <td>0</td>\n",
              "      <td>A Marriner</td>\n",
              "      <td>-2.287897e-08</td>\n",
              "      <td>1.000000e+00</td>\n",
              "      <td>Draw</td>\n",
              "    </tr>\n",
              "    <tr>\n",
              "      <th>7</th>\n",
              "      <td>Sunderland</td>\n",
              "      <td>Man City</td>\n",
              "      <td>0</td>\n",
              "      <td>0</td>\n",
              "      <td>S Attwell</td>\n",
              "      <td>-2.287897e-08</td>\n",
              "      <td>2.000000e+00</td>\n",
              "      <td>Loss</td>\n",
              "    </tr>\n",
              "    <tr>\n",
              "      <th>8</th>\n",
              "      <td>Bournemouth</td>\n",
              "      <td>Wolves</td>\n",
              "      <td>0</td>\n",
              "      <td>0</td>\n",
              "      <td>S Hooper</td>\n",
              "      <td>-2.287897e-08</td>\n",
              "      <td>2.000000e+00</td>\n",
              "      <td>Loss</td>\n",
              "    </tr>\n",
              "    <tr>\n",
              "      <th>9</th>\n",
              "      <td>Swansea</td>\n",
              "      <td>Liverpool</td>\n",
              "      <td>0</td>\n",
              "      <td>0</td>\n",
              "      <td>R East</td>\n",
              "      <td>-2.287897e-08</td>\n",
              "      <td>1.000000e+00</td>\n",
              "      <td>Loss</td>\n",
              "    </tr>\n",
              "  </tbody>\n",
              "</table>"
            ],
            "text/plain": [
              "<IPython.core.display.HTML object>"
            ]
          },
          "metadata": {}
        }
      ]
    },
    {
      "cell_type": "markdown",
      "metadata": {
        "id": "gMtR2PEea4Ae"
      },
      "source": [
        "We can define a model using the `tabular_learner` method. When we define our model, `fastai` will try to infer the loss function based on our `y_names` earlier. \n",
        "\n",
        "**Note**: Sometimes with tabular data, your `y`'s may be encoded (such as 0 and 1). In such a case you should explicitly pass `y_block = CategoryBlock` in your constructor so `fastai` won't presume you are doing regression."
      ]
    },
    {
      "cell_type": "code",
      "metadata": {
        "id": "VuMZKvsQa4Af"
      },
      "source": [
        "learn = tabular_learner(dls, metrics=accuracy)"
      ],
      "execution_count": 15,
      "outputs": []
    },
    {
      "cell_type": "code",
      "metadata": {
        "colab": {
          "base_uri": "https://localhost:8080/",
          "height": 283
        },
        "id": "kyk_29is9nHR",
        "outputId": "88741a92-eebe-463f-89b8-79e8a73df463"
      },
      "source": [
        "lr = learn.lr_find()"
      ],
      "execution_count": 16,
      "outputs": [
        {
          "output_type": "display_data",
          "data": {
            "text/html": [
              ""
            ],
            "text/plain": [
              "<IPython.core.display.HTML object>"
            ]
          },
          "metadata": {}
        },
        {
          "output_type": "display_data",
          "data": {
            "image/png": "[encoded data removed]",
            "text/plain": [
              "<Figure size 432x288 with 1 Axes>"
            ]
          },
          "metadata": {
            "needs_background": "light"
          }
        }
      ]
    },
    {
      "cell_type": "markdown",
      "metadata": {
        "id": "iHZq7Y8Sa4Af"
      },
      "source": [
        "And we can train that model with the `fit_one_cycle` method (the `fine_tune` method won't be useful here since we don't have a pretrained model)."
      ]
    },
    {
      "cell_type": "code",
      "metadata": {
        "id": "qfYndL58a4Af",
        "colab": {
          "base_uri": "https://localhost:8080/",
          "height": 363
        },
        "outputId": "98068af8-f9cc-47ae-a6b2-6cd813115461"
      },
      "source": [
        "learn.fit_one_cycle(10, lr_max=slice(lr.valley))"
      ],
      "execution_count": 17,
      "outputs": [
        {
          "output_type": "display_data",
          "data": {
            "text/html": [
              "<table border=\"1\" class=\"dataframe\">\n",
              "  <thead>\n",
              "    <tr style=\"text-align: left;\">\n",
              "      <th>epoch</th>\n",
              "      <th>train_loss</th>\n",
              "      <th>valid_loss</th>\n",
              "      <th>accuracy</th>\n",
              "      <th>time</th>\n",
              "    </tr>\n",
              "  </thead>\n",
              "  <tbody>\n",
              "    <tr>\n",
              "      <td>0</td>\n",
              "      <td>0.789433</td>\n",
              "      <td>0.742037</td>\n",
              "      <td>0.769784</td>\n",
              "      <td>00:00</td>\n",
              "    </tr>\n",
              "    <tr>\n",
              "      <td>1</td>\n",
              "      <td>0.665810</td>\n",
              "      <td>0.594098</td>\n",
              "      <td>0.769784</td>\n",
              "      <td>00:00</td>\n",
              "    </tr>\n",
              "    <tr>\n",
              "      <td>2</td>\n",
              "      <td>0.612088</td>\n",
              "      <td>0.561600</td>\n",
              "      <td>0.776978</td>\n",
              "      <td>00:00</td>\n",
              "    </tr>\n",
              "    <tr>\n",
              "      <td>3</td>\n",
              "      <td>0.575886</td>\n",
              "      <td>0.540671</td>\n",
              "      <td>0.751799</td>\n",
              "      <td>00:00</td>\n",
              "    </tr>\n",
              "    <tr>\n",
              "      <td>4</td>\n",
              "      <td>0.548499</td>\n",
              "      <td>0.517051</td>\n",
              "      <td>0.766187</td>\n",
              "      <td>00:00</td>\n",
              "    </tr>\n",
              "    <tr>\n",
              "      <td>5</td>\n",
              "      <td>0.528493</td>\n",
              "      <td>0.517431</td>\n",
              "      <td>0.773381</td>\n",
              "      <td>00:00</td>\n",
              "    </tr>\n",
              "    <tr>\n",
              "      <td>6</td>\n",
              "      <td>0.510641</td>\n",
              "      <td>0.517373</td>\n",
              "      <td>0.762590</td>\n",
              "      <td>00:00</td>\n",
              "    </tr>\n",
              "    <tr>\n",
              "      <td>7</td>\n",
              "      <td>0.495401</td>\n",
              "      <td>0.521058</td>\n",
              "      <td>0.755396</td>\n",
              "      <td>00:00</td>\n",
              "    </tr>\n",
              "    <tr>\n",
              "      <td>8</td>\n",
              "      <td>0.486892</td>\n",
              "      <td>0.518979</td>\n",
              "      <td>0.751799</td>\n",
              "      <td>00:00</td>\n",
              "    </tr>\n",
              "    <tr>\n",
              "      <td>9</td>\n",
              "      <td>0.476065</td>\n",
              "      <td>0.517557</td>\n",
              "      <td>0.748201</td>\n",
              "      <td>00:00</td>\n",
              "    </tr>\n",
              "  </tbody>\n",
              "</table>"
            ],
            "text/plain": [
              "<IPython.core.display.HTML object>"
            ]
          },
          "metadata": {}
        }
      ]
    },
    {
      "cell_type": "markdown",
      "metadata": {
        "id": "6tVdgCz9a4Af"
      },
      "source": [
        "We can then have a look at some predictions:"
      ]
    },
    {
      "cell_type": "code",
      "metadata": {
        "id": "VMx5USjUa4Af",
        "colab": {
          "base_uri": "https://localhost:8080/",
          "height": 206
        },
        "outputId": "6194f318-b813-41cc-cc59-55b64cc0abc6"
      },
      "source": [
        "learn.show_results(max_n=5)"
      ],
      "execution_count": 18,
      "outputs": [
        {
          "output_type": "display_data",
          "data": {
            "text/html": [
              ""
            ],
            "text/plain": [
              "<IPython.core.display.HTML object>"
            ]
          },
          "metadata": {}
        },
        {
          "output_type": "display_data",
          "data": {
            "text/html": [
              "<table border=\"1\" class=\"dataframe\">\n",
              "  <thead>\n",
              "    <tr style=\"text-align: right;\">\n",
              "      <th></th>\n",
              "      <th>HomeTeam</th>\n",
              "      <th>AwayTeam</th>\n",
              "      <th>TGSH</th>\n",
              "      <th>TGSA</th>\n",
              "      <th>Referee</th>\n",
              "      <th>HomeWinStreak</th>\n",
              "      <th>AwayWinStreak</th>\n",
              "      <th>Results</th>\n",
              "      <th>Results_pred</th>\n",
              "    </tr>\n",
              "  </thead>\n",
              "  <tbody>\n",
              "    <tr>\n",
              "      <th>0</th>\n",
              "      <td>28.0</td>\n",
              "      <td>17.0</td>\n",
              "      <td>1.0</td>\n",
              "      <td>1.0</td>\n",
              "      <td>3.0</td>\n",
              "      <td>-0.247341</td>\n",
              "      <td>-0.629619</td>\n",
              "      <td>2.0</td>\n",
              "      <td>2.0</td>\n",
              "    </tr>\n",
              "    <tr>\n",
              "      <th>1</th>\n",
              "      <td>32.0</td>\n",
              "      <td>18.0</td>\n",
              "      <td>1.0</td>\n",
              "      <td>1.0</td>\n",
              "      <td>18.0</td>\n",
              "      <td>-0.788346</td>\n",
              "      <td>0.312558</td>\n",
              "      <td>1.0</td>\n",
              "      <td>1.0</td>\n",
              "    </tr>\n",
              "    <tr>\n",
              "      <th>2</th>\n",
              "      <td>27.0</td>\n",
              "      <td>25.0</td>\n",
              "      <td>2.0</td>\n",
              "      <td>1.0</td>\n",
              "      <td>20.0</td>\n",
              "      <td>0.834669</td>\n",
              "      <td>-0.629619</td>\n",
              "      <td>2.0</td>\n",
              "      <td>2.0</td>\n",
              "    </tr>\n",
              "    <tr>\n",
              "      <th>3</th>\n",
              "      <td>4.0</td>\n",
              "      <td>16.0</td>\n",
              "      <td>1.0</td>\n",
              "      <td>1.0</td>\n",
              "      <td>30.0</td>\n",
              "      <td>-0.788346</td>\n",
              "      <td>0.312558</td>\n",
              "      <td>0.0</td>\n",
              "      <td>1.0</td>\n",
              "    </tr>\n",
              "    <tr>\n",
              "      <th>4</th>\n",
              "      <td>5.0</td>\n",
              "      <td>20.0</td>\n",
              "      <td>1.0</td>\n",
              "      <td>1.0</td>\n",
              "      <td>7.0</td>\n",
              "      <td>-0.247341</td>\n",
              "      <td>-0.629619</td>\n",
              "      <td>0.0</td>\n",
              "      <td>2.0</td>\n",
              "    </tr>\n",
              "  </tbody>\n",
              "</table>"
            ],
            "text/plain": [
              "<IPython.core.display.HTML object>"
            ]
          },
          "metadata": {}
        }
      ]
    },
    {
      "cell_type": "markdown",
      "metadata": {
        "id": "hfMhye2ta4Ag"
      },
      "source": [
        "Or use the predict method on a row:"
      ]
    },
    {
      "cell_type": "code",
      "metadata": {
        "id": "DUiHGAtza4Ag",
        "colab": {
          "base_uri": "https://localhost:8080/",
          "height": 17
        },
        "outputId": "12391bc0-456f-49e4-84ec-2f2845d88244"
      },
      "source": [
        "row, clas, probs = learn.predict(df.iloc[9])"
      ],
      "execution_count": null,
      "outputs": [
        {
          "output_type": "display_data",
          "data": {
            "text/html": [
              ""
            ],
            "text/plain": [
              "<IPython.core.display.HTML object>"
            ]
          },
          "metadata": {}
        }
      ]
    },
    {
      "cell_type": "code",
      "metadata": {
        "id": "kSBT26gxa4Ag",
        "colab": {
          "base_uri": "https://localhost:8080/",
          "height": 80
        },
        "outputId": "2d23c729-24cc-4c32-a049-0fbb8af0493b"
      },
      "source": [
        "row.show()"
      ],
      "execution_count": null,
      "outputs": [
        {
          "output_type": "display_data",
          "data": {
            "text/html": [
              "<table border=\"1\" class=\"dataframe\">\n",
              "  <thead>\n",
              "    <tr style=\"text-align: right;\">\n",
              "      <th></th>\n",
              "      <th>HomeTeam</th>\n",
              "      <th>AwayTeam</th>\n",
              "      <th>TGSH</th>\n",
              "      <th>TGSA</th>\n",
              "      <th>Referee</th>\n",
              "      <th>HomeWinStreak</th>\n",
              "      <th>AwayWinStreak</th>\n",
              "      <th>Results</th>\n",
              "    </tr>\n",
              "  </thead>\n",
              "  <tbody>\n",
              "    <tr>\n",
              "      <th>0</th>\n",
              "      <td>Burnley</td>\n",
              "      <td>Chelsea</td>\n",
              "      <td>0</td>\n",
              "      <td>0</td>\n",
              "      <td>M Oliver</td>\n",
              "      <td>-2.287897e-08</td>\n",
              "      <td>2.0</td>\n",
              "      <td>Loss</td>\n",
              "    </tr>\n",
              "  </tbody>\n",
              "</table>"
            ],
            "text/plain": [
              "<IPython.core.display.HTML object>"
            ]
          },
          "metadata": {}
        }
      ]
    },
    {
      "cell_type": "code",
      "metadata": {
        "id": "qFb-IlRFa4Ah",
        "colab": {
          "base_uri": "https://localhost:8080/"
        },
        "outputId": "75a9ef43-c491-4bcb-a8d0-c69ddaee6b8b"
      },
      "source": [
        "clas, probs"
      ],
      "execution_count": null,
      "outputs": [
        {
          "output_type": "execute_result",
          "data": {
            "text/plain": [
              "(tensor(1), tensor([0.1094, 0.8829, 0.0078]))"
            ]
          },
          "metadata": {},
          "execution_count": 191
        }
      ]
    },
    {
      "cell_type": "code",
      "metadata": {
        "id": "ySCAniw7X9fJ"
      },
      "source": [
        "# dfTest = pd.read_csv(\"/content/Test.csv\")\n",
        "# dfTest"
      ],
      "execution_count": null,
      "outputs": []
    },
    {
      "cell_type": "code",
      "metadata": {
        "id": "rEoGtblkvG6S"
      },
      "source": [
        "# row, clas, probs = learn.predict(dfTest.iloc[8])"
      ],
      "execution_count": null,
      "outputs": []
    },
    {
      "cell_type": "code",
      "metadata": {
        "id": "kXfwLEALvKZw"
      },
      "source": [
        "# clas, probs"
      ],
      "execution_count": null,
      "outputs": []
    },
    {
      "cell_type": "code",
      "metadata": {
        "id": "NcGgo6xhvNPr"
      },
      "source": [
        "# test_df = dfTest.copy()\n",
        "# test_df.drop(['Results'], axis=1, inplace=True)\n",
        "# dl = learn.dls.test_dl(test_df)"
      ],
      "execution_count": null,
      "outputs": []
    },
    {
      "cell_type": "code",
      "metadata": {
        "id": "tUIbgYB_w8Se"
      },
      "source": [
        "# learn.get_preds(dl=dl)"
      ],
      "execution_count": null,
      "outputs": []
    },
    {
      "cell_type": "code",
      "metadata": {
        "id": "PP9v6uS8x70H",
        "colab": {
          "base_uri": "https://localhost:8080/"
        },
        "outputId": "7a47ee33-827f-4525-ec4f-14256f4cbd81"
      },
      "source": [
        "predict_input = df.iloc[9].copy()\n",
        "predict_input = predict_input.drop([\"ScoreDiff\", \"FTHG\", \"FTAG\", \"Results\"])\n",
        "predict_input"
      ],
      "execution_count": 32,
      "outputs": [
        {
          "output_type": "execute_result",
          "data": {
            "text/plain": [
              "HomeTeam          Burnley\n",
              "AwayTeam          Chelsea\n",
              "HomeWinStreak           0\n",
              "AwayWinStreak           2\n",
              "TGSH                    0\n",
              "TGSA                    0\n",
              "Referee          M Oliver\n",
              "Name: 9, dtype: object"
            ]
          },
          "metadata": {},
          "execution_count": 32
        }
      ]
    },
    {
      "cell_type": "code",
      "source": [
        "type(predict_input[\"TGSH\"])"
      ],
      "metadata": {
        "colab": {
          "base_uri": "https://localhost:8080/"
        },
        "id": "4hgpEpwOYMQt",
        "outputId": "0da7002b-8996-45c0-96c1-12f9d7765e0f"
      },
      "execution_count": 34,
      "outputs": [
        {
          "output_type": "execute_result",
          "data": {
            "text/plain": [
              "float"
            ]
          },
          "metadata": {},
          "execution_count": 34
        }
      ]
    },
    {
      "cell_type": "code",
      "metadata": {
        "colab": {
          "base_uri": "https://localhost:8080/",
          "height": 49,
          "referenced_widgets": [
            "c7ede7733d02446b9c4a7b758cf863fe",
            "bc401f26dd9d45f1b88b81d040acb17a",
            "b5ee710b67984a369acf300e877a24d5"
          ]
        },
        "outputId": "89f17ad9-da5a-4ad1-803e-04a2b3c7af84",
        "id": "IO0LftLdQ6hJ"
      },
      "source": [
        "home_team = widgets.Text(\n",
        "    value='Home Team',\n",
        "    placeholder='Type a Team',\n",
        "    description='Home Team:',\n",
        "    disabled=False\n",
        ")\n",
        "display(home_team)\n",
        "predict_input[\"HomeTeam\"] = home_team.value"
      ],
      "execution_count": 20,
      "outputs": [
        {
          "output_type": "display_data",
          "data": {
            "application/vnd.jupyter.widget-view+json": {
              "model_id": "c7ede7733d02446b9c4a7b758cf863fe",
              "version_minor": 0,
              "version_major": 2
            },
            "text/plain": [
              "Text(value='Home Team', description='Home Team:', placeholder='Type a Team')"
            ]
          },
          "metadata": {}
        }
      ]
    },
    {
      "cell_type": "code",
      "source": [
        ""
      ],
      "metadata": {
        "id": "rZshlj1YQ7bN"
      },
      "execution_count": null,
      "outputs": []
    },
    {
      "cell_type": "code",
      "source": [
        "away_team = widgets.Text(\n",
        "    value='Away Team',\n",
        "    placeholder='Type a Team',\n",
        "    description='Away Team:',\n",
        "    disabled=False\n",
        ")\n",
        "display(away_team)\n",
        "# predict_input[\"AwayTeam\"] = away_team.value"
      ],
      "metadata": {
        "colab": {
          "base_uri": "https://localhost:8080/",
          "height": 49,
          "referenced_widgets": [
            "2468b4a54b664e0c911cbbc99fa9f37e",
            "1425ad7b7ffd4058b0e550b3c8ce37e7",
            "343d8a2c48b24d2ba24e3e1238e79e03"
          ]
        },
        "id": "pqhpHwpxBjwZ",
        "outputId": "f60d3dd8-8b2c-4937-f5e8-38797519b5cd"
      },
      "execution_count": 21,
      "outputs": [
        {
          "output_type": "display_data",
          "data": {
            "application/vnd.jupyter.widget-view+json": {
              "model_id": "2468b4a54b664e0c911cbbc99fa9f37e",
              "version_minor": 0,
              "version_major": 2
            },
            "text/plain": [
              "Text(value='Away Team', description='Away Team:', placeholder='Type a Team')"
            ]
          },
          "metadata": {}
        }
      ]
    },
    {
      "cell_type": "code",
      "source": [
        ""
      ],
      "metadata": {
        "id": "qmhK7T5RQ-MV"
      },
      "execution_count": null,
      "outputs": []
    },
    {
      "cell_type": "code",
      "source": [
        "home_three = widgets.RadioButtons(\n",
        "    options=[1.0, 0.0],\n",
        "#    value='pineapple', # Defaults to 'pineapple'\n",
        " #   layout={'width': 'max-content'}, # If the items' names are long\n",
        "    description='Home 3 Game win streak:',\n",
        "    disabled=False\n",
        ")\n",
        "display(home_three)\n",
        "# predict_input[\"TGSH\"] = home_three.value"
      ],
      "metadata": {
        "colab": {
          "base_uri": "https://localhost:8080/",
          "height": 81,
          "referenced_widgets": [
            "1ba3094a079d414cbce31b1dd1e930af",
            "7ab701b6af6f47f1ac9c30aa44f962c5",
            "a2f94226b559415a865460d2829c9084"
          ]
        },
        "id": "ZEeMhg7OBrZm",
        "outputId": "5ca79811-1b2d-4521-9b25-1043a0b587e6"
      },
      "execution_count": 22,
      "outputs": [
        {
          "output_type": "display_data",
          "data": {
            "application/vnd.jupyter.widget-view+json": {
              "model_id": "1ba3094a079d414cbce31b1dd1e930af",
              "version_minor": 0,
              "version_major": 2
            },
            "text/plain": [
              "RadioButtons(description='Home 3 Game win streak:', options=(1.0, 0.0), value=1.0)"
            ]
          },
          "metadata": {}
        }
      ]
    },
    {
      "cell_type": "code",
      "source": [
        ""
      ],
      "metadata": {
        "id": "R6mEokvXRBXv"
      },
      "execution_count": null,
      "outputs": []
    },
    {
      "cell_type": "code",
      "source": [
        "away_three = widgets.RadioButtons(\n",
        "    options=[1.0, 0.0],\n",
        "#    value='pineapple', # Defaults to 'pineapple'\n",
        "   layout={'width': 'max-content'}, # If the items' names are long\n",
        "    description='Away 3 Game win streak:',\n",
        "    disabled=False\n",
        ")\n",
        "display(away_three)\n",
        "# predict_input[\"TGSA\"] = away_three.value"
      ],
      "metadata": {
        "colab": {
          "base_uri": "https://localhost:8080/",
          "height": 81,
          "referenced_widgets": [
            "fffae822814640ebad1abe2144e45178",
            "4cefdaec545a4ce28e895a7e861bb3cc",
            "a133c9cbcff543a4a669423322d92a68"
          ]
        },
        "id": "P1LgvnNDCyD_",
        "outputId": "60651785-4a38-4d88-9605-4815186acc78"
      },
      "execution_count": 23,
      "outputs": [
        {
          "output_type": "display_data",
          "data": {
            "application/vnd.jupyter.widget-view+json": {
              "model_id": "fffae822814640ebad1abe2144e45178",
              "version_minor": 0,
              "version_major": 2
            },
            "text/plain": [
              "RadioButtons(description='Away 3 Game win streak:', layout=Layout(width='max-content'), options=(1.0, 0.0), va…"
            ]
          },
          "metadata": {}
        }
      ]
    },
    {
      "cell_type": "code",
      "source": [
        "home_streak = widgets.FloatText(\n",
        "    value= 2.0,\n",
        "    description='Home Team Streak:',\n",
        ")\n",
        "display(home_streak)\n",
        "# predict_input[\"HomeWinStreak\"] = home_streak.value"
      ],
      "metadata": {
        "colab": {
          "base_uri": "https://localhost:8080/",
          "height": 49,
          "referenced_widgets": [
            "9c018a616db34cc9bf47809e7a834ce5",
            "76b768cc5539408999f691fef503b23a",
            "f807aef87dd64f7bb4f54a8b085c2cd7"
          ]
        },
        "id": "Sdutv313DA4j",
        "outputId": "5fbfcba4-fc9f-403b-c3d6-72a3e5f8f374"
      },
      "execution_count": 24,
      "outputs": [
        {
          "output_type": "display_data",
          "data": {
            "application/vnd.jupyter.widget-view+json": {
              "model_id": "9c018a616db34cc9bf47809e7a834ce5",
              "version_minor": 0,
              "version_major": 2
            },
            "text/plain": [
              "FloatText(value=2.0, description='Home Team Streak:')"
            ]
          },
          "metadata": {}
        }
      ]
    },
    {
      "cell_type": "code",
      "source": [
        "away_streak = widgets.FloatText(\n",
        "    value= 1,\n",
        "    description='Away Team Streak:',\n",
        ")\n",
        "display(away_streak)\n",
        "# predict_input[\"AwayWinStreak\"] = away_streak.value"
      ],
      "metadata": {
        "colab": {
          "base_uri": "https://localhost:8080/",
          "height": 49,
          "referenced_widgets": [
            "fbe5f60f5dca4a6584aca3623008aa0d",
            "452bf6e5a45742b498466d5ed0f2b84d",
            "2955fe11b0a44a039df392725f710e02"
          ]
        },
        "id": "OFB2xvylC11C",
        "outputId": "4c32cba4-4ca6-48fd-93e6-12c49cdfa409"
      },
      "execution_count": 25,
      "outputs": [
        {
          "output_type": "display_data",
          "data": {
            "application/vnd.jupyter.widget-view+json": {
              "model_id": "fbe5f60f5dca4a6584aca3623008aa0d",
              "version_minor": 0,
              "version_major": 2
            },
            "text/plain": [
              "FloatText(value=1.0, description='Away Team Streak:')"
            ]
          },
          "metadata": {}
        }
      ]
    },
    {
      "cell_type": "code",
      "source": [
        ""
      ],
      "metadata": {
        "id": "oQcZr-pxRMls"
      },
      "execution_count": null,
      "outputs": []
    },
    {
      "cell_type": "code",
      "source": [
        "ref_text = widgets.Text(\n",
        "    value='Enter Referee',\n",
        "    placeholder='Enter Referee',\n",
        "    description='Enter Referee',\n",
        "    disabled=False\n",
        ")\n",
        "display(ref_text)"
      ],
      "metadata": {
        "colab": {
          "base_uri": "https://localhost:8080/",
          "height": 49,
          "referenced_widgets": [
            "d59a0278de63440a9e771ca8795d75ac",
            "4a72c219d3c04afda59cecb4a0aa355c",
            "bd65f4c1f99e4b76b0d6fa10af4b9f73"
          ]
        },
        "id": "rWxpvhBGDME0",
        "outputId": "01295d26-2b7c-4c80-a026-9ac49d696776"
      },
      "execution_count": 26,
      "outputs": [
        {
          "output_type": "display_data",
          "data": {
            "application/vnd.jupyter.widget-view+json": {
              "model_id": "d59a0278de63440a9e771ca8795d75ac",
              "version_minor": 0,
              "version_major": 2
            },
            "text/plain": [
              "Text(value='Enter Referee', description='Enter Referee', placeholder='Enter Referee')"
            ]
          },
          "metadata": {}
        }
      ]
    },
    {
      "cell_type": "code",
      "source": [
        ""
      ],
      "metadata": {
        "id": "LouTmXqMSIlf"
      },
      "execution_count": null,
      "outputs": []
    },
    {
      "cell_type": "code",
      "source": [
        "predict_input[\"HomeTeam\"] = home_team.value\n",
        "predict_input[\"AwayTeam\"] = away_team.value\n",
        "predict_input[\"TGSH\"] = home_three.value\n",
        "predict_input[\"TGSA\"] = away_three.value\n",
        "predict_input[\"AwayWinStreak\"] = away_streak.value\n",
        "predict_input[\"HomeWinStreak\"] = home_streak.value\n",
        "predict_input[\"Referee\"] = ref_text.value\n",
        "predict_input\n"
      ],
      "metadata": {
        "colab": {
          "base_uri": "https://localhost:8080/"
        },
        "id": "1h2njc4JEh8-",
        "outputId": "56bc0852-0016-4ce5-eb34-71a51524d53e"
      },
      "execution_count": 33,
      "outputs": [
        {
          "output_type": "execute_result",
          "data": {
            "text/plain": [
              "HomeTeam          Chelsea\n",
              "AwayTeam          Arsenal\n",
              "HomeWinStreak           0\n",
              "AwayWinStreak           0\n",
              "TGSH                    0\n",
              "TGSA                    0\n",
              "Referee          M Oliver\n",
              "Name: 9, dtype: object"
            ]
          },
          "metadata": {},
          "execution_count": 33
        }
      ]
    },
    {
      "cell_type": "code",
      "source": [
        "row, clas, probs = learn.predict(predict_input)"
      ],
      "metadata": {
        "colab": {
          "base_uri": "https://localhost:8080/",
          "height": 17
        },
        "id": "ZvdPg-FAW_cE",
        "outputId": "3d6a0171-6488-41c4-ad7a-9e23015530b7"
      },
      "execution_count": 34,
      "outputs": [
        {
          "output_type": "display_data",
          "data": {
            "text/html": [
              ""
            ],
            "text/plain": [
              "<IPython.core.display.HTML object>"
            ]
          },
          "metadata": {}
        }
      ]
    },
    {
      "cell_type": "code",
      "source": [
        "probs"
      ],
      "metadata": {
        "colab": {
          "base_uri": "https://localhost:8080/"
        },
        "id": "b_tu9TcRXPJE",
        "outputId": "13e1c3c9-11b6-4f19-a338-760d7e20903c"
      },
      "execution_count": 35,
      "outputs": [
        {
          "output_type": "execute_result",
          "data": {
            "text/plain": [
              "tensor([0.3540, 0.0610, 0.5850])"
            ]
          },
          "metadata": {},
          "execution_count": 35
        }
      ]
    },
    {
      "cell_type": "code",
      "source": [
        "if torch.argmax(probs) == 0:\n",
        "  print(\"Loss\")\n",
        "elif torch.argmax(probs) == 1:\n",
        "  print(\"Draw\")\n",
        "else:\n",
        "  print(\"Win\")"
      ],
      "metadata": {
        "colab": {
          "base_uri": "https://localhost:8080/"
        },
        "id": "cnwaYnboZ4-6",
        "outputId": "7b61a636-8862-4848-b3ce-12ae8218ce2e"
      },
      "execution_count": 36,
      "outputs": [
        {
          "output_type": "stream",
          "name": "stdout",
          "text": [
            "Win\n"
          ]
        }
      ]
    },
    {
      "cell_type": "code",
      "source": [
        ""
      ],
      "metadata": {
        "id": "otZkgq8Ja6zn"
      },
      "execution_count": null,
      "outputs": []
    }
  ]
}